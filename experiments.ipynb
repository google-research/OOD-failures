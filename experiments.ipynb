{
 "cells": [
  {
   "cell_type": "code",
   "execution_count": 45,
   "metadata": {},
   "outputs": [],
   "source": [
    "# Copyright 2021 Google LLC\n",
    "#\n",
    "# Licensed under the Apache License, Version 2.0 (the \"License\");\n",
    "# you may not use this file except in compliance with the License.\n",
    "# You may obtain a copy of the License at\n",
    "#\n",
    "#     https://www.apache.org/licenses/LICENSE-2.0\n",
    "#\n",
    "# Unless required by applicable law or agreed to in writing, software\n",
    "# distributed under the License is distributed on an \"AS IS\" BASIS,\n",
    "# WITHOUT WARRANTIES OR CONDITIONS OF ANY KIND, either express or implied.\n",
    "# See the License for the specific language governing permissions and\n",
    "# limitations under the License.\n",
    "\n"
   ]
  },
  {
   "cell_type": "markdown",
   "metadata": {},
   "source": [
    "### Geometric and statistical skews on a real-world dataset\n",
    "\n",
    "The code below demonstrates the effects of geometric and statistical skews in a real-world linearly separable dataset \n",
    "sourced from the UCI ML repository. Please refer to this link for the original dataset: https://archive.ics.uci.edu/ml/datasets/Estimation+of+obesity+levels+based+on+eating+habits+and+physical+condition+"
   ]
  },
  {
   "cell_type": "code",
   "execution_count": null,
   "metadata": {},
   "outputs": [],
   "source": [
    "\n",
    "\n",
    "import tensorflow as tf\n",
    "import numpy as np\n",
    "import matplotlib as mpl\n",
    "mpl.use('Agg')\n",
    "import pprint\n",
    "import numpy as np\n",
    "import matplotlib.pyplot as plt\n",
    "%matplotlib inline\n",
    "#import cvxpy as cp\n",
    "tf.compat.v1.logging.set_verbosity(tf.compat.v1.logging.ERROR)\n",
    "from sklearn import preprocessing\n",
    "\n",
    "import keras\n",
    "from keras.models import Sequential\n",
    "from keras import backend as K\n",
    "from keras.models import Model\n",
    "import numpy as np\n",
    "import cvxpy as cp\n",
    "\n",
    "colors = ['black','#377eb8', '#ff7f00', '#4daf4a',\n",
    "              '#984ea3', '#a65628', '#f781bf',\n",
    "              '#999999', '#e41a1c', '#dede00']\n",
    "markers = [ 'h', '*', '<', 'o', 's', 'v', 'D' ]\n",
    "local_dir = '/home/jupyter'\n",
    "\n",
    "plot_dir = f'{local_dir}/plot_pdfs'\n",
    "\n",
    "\n"
   ]
  },
  {
   "cell_type": "code",
   "execution_count": 2,
   "metadata": {},
   "outputs": [],
   "source": [
    "np.random.seed(seed=42)"
   ]
  },
  {
   "cell_type": "markdown",
   "metadata": {},
   "source": [
    "# Data preprocessing"
   ]
  },
  {
   "cell_type": "markdown",
   "metadata": {},
   "source": [
    "Here, we'll load the data, shuffle it, convert it to a binary classification task and rescale the features. As such the data is originally a 6-class classification task with labels in {0,1,2...,6}. \n",
    "But we'll  {0,1,2} as class 1 and {4,5,6} as class 2. We'll ignore datapoints with original label = 3 to create sufficient gap between the two classes.\n",
    "\n",
    "In the following code, we'll also set `spur_ind`, the index of the spurious feature (you can play around with different choices for this)."
   ]
  },
  {
   "cell_type": "code",
   "execution_count": 3,
   "metadata": {},
   "outputs": [
    {
     "name": "stdout",
     "output_type": "stream",
     "text": [
      "1821 datapoints remain.\n",
      "Labels have been simplified to [0. 1.]\n"
     ]
    }
   ],
   "source": [
    "# Load and shuffle data\n",
    "data = np.loadtxt('third_party/obesity_dataset/ObesityDataSet.csv',skiprows=1,delimiter=',') \n",
    "np.random.shuffle(data)\n",
    "\n",
    "spur_ind = 18 # The 18th column inthe data corresponds to the \"spurious feature\"\n",
    "label_ind = 20 # The 20th column corresponds to the label\n",
    "\n",
    "#==================\n",
    "# Conversion to binary classification task:\n",
    "#==================\n",
    "\n",
    "data = data[np.logical_or.reduce([data[:,label_ind] == x for x in [0,1,2,4,5,6]]),:] \n",
    "print(f\"{data.shape[0]} datapoints remain.\")\n",
    "# Convert these labels to 0 and 1.\n",
    "data[data[:,label_ind]<=3, label_ind] = 0\n",
    "data[data[:,label_ind]>=4, label_ind] = 1\n",
    "print(f\"Labels have been simplified to {np.unique(data[:,label_ind])}\")\n",
    "labels = data[:,-1]\n",
    "data = data[:,:-1]\n",
    "# Rescale the data\n",
    "#data = preprocessing.scale(data)\n",
    "min_max_scaler = preprocessing.MinMaxScaler()\n",
    "data = min_max_scaler.fit_transform(data)\n",
    "# num_data = data.shape[0]\n",
    "\n",
    "# Create test-train split\n",
    "num_data = data.shape[0]\n",
    "x_train, y_train = data[:int(0.6*num_data)], labels[:int(0.6*num_data)]\n",
    "x_test, y_test = data[int(0.6*num_data):], labels[int(0.6*num_data):]"
   ]
  },
  {
   "cell_type": "markdown",
   "metadata": {},
   "source": [
    "Next, we'll create partitions of the test data depending on whether the spurious feature equals the label or not. "
   ]
  },
  {
   "cell_type": "code",
   "execution_count": 4,
   "metadata": {},
   "outputs": [
    {
     "name": "stdout",
     "output_type": "stream",
     "text": [
      "Num training data where x_sp = y: 581\n",
      "Num training data where x_sp = y: 511\n",
      "Num test data where x_sp = y: 395\n",
      "Num test data where x_sp = y: 334\n"
     ]
    }
   ],
   "source": [
    "# Determine which indices in the training set correspond to x_sp = y and x_sp != y\n",
    "pos_train_ind = (x_train[:,spur_ind] == y_train)\n",
    "neg_train_ind = (x_train[:,spur_ind] != y_train)\n",
    "\n",
    "# Determine which indices in the test set correspond to x_sp = y and x_sp != y\n",
    "pos_test_ind = (x_test[:,spur_ind] == y_test)\n",
    "neg_test_ind = (x_test[:,spur_ind] != y_test)\n",
    "\n",
    "# Select datapoints in the training set where x_sp = y and x_sp != y\n",
    "pos_x_train, pos_y_train = x_train[pos_train_ind], y_train[pos_train_ind]\n",
    "neg_x_train, neg_y_train = x_train[neg_train_ind], y_train[neg_train_ind]\n",
    "\n",
    "# Select datapoints in the test set where x_sp = y and x_sp != y\n",
    "pos_x_test, pos_y_test = x_test[pos_test_ind], y_test[pos_test_ind]\n",
    "neg_x_test, neg_y_test = x_test[neg_test_ind], y_test[neg_test_ind]\n",
    "\n",
    "print(f'Num training data where x_sp = y: {pos_x_train.shape[0]}')\n",
    "print(f'Num training data where x_sp = y: {neg_x_train.shape[0]}')\n",
    "print(f'Num test data where x_sp = y: {pos_x_test.shape[0]}')\n",
    "print(f'Num test data where x_sp = y: {neg_x_test.shape[0]}')"
   ]
  },
  {
   "cell_type": "markdown",
   "metadata": {},
   "source": [
    "As such there is a small level of spurious correlation here (i.e., x_sp _is_ spuriously correlated with y), but as we'll see this is\n",
    "not significant enough to cause trouble."
   ]
  },
  {
   "cell_type": "markdown",
   "metadata": {},
   "source": [
    "# Geometric skews"
   ]
  },
  {
   "cell_type": "markdown",
   "metadata": {},
   "source": [
    "Recall from the paper that our investigation of geometric skews relies on studying the max-margin classifier. Let's setup the function required for computing that. "
   ]
  },
  {
   "cell_type": "markdown",
   "metadata": {},
   "source": [
    "### Functions to compute max-margin and its error"
   ]
  },
  {
   "cell_type": "code",
   "execution_count": 5,
   "metadata": {},
   "outputs": [],
   "source": [
    "def fit_max_margin(x_train, y_train):\n",
    "    \"\"\"\n",
    "    Returns max-margin solution on the training datapoint\n",
    "    # Arguments:\n",
    "        x_train (np.array): training inputs\n",
    "        y_train (np.array): 0/1 training labels\n",
    "    # Returns\n",
    "        weights (np.array): array of weights\n",
    "        bias (float): bias value\n",
    "    \"\"\"\n",
    "    \n",
    "    # One could also use scipy to do this but  \n",
    "    # with the following code there's greater flexibility to play around with the\n",
    "    # constraints and see how things change\n",
    "    \n",
    "    x_train = x_train.reshape((x_train.shape[0],-1))\n",
    "    A = np.hstack([x_train,np.ones((x_train.shape[0],1))]) # Append a \"1\" for the bias feature\n",
    "    Ide = np.identity(x_train.shape[1])\n",
    "    b_ones = np.ones(A.shape[0])\n",
    "    cp_weights = cp.Variable(A.shape[1])\n",
    "    \n",
    "    # Quadratic program corresponding to minimizing ||w||^2\n",
    "    # subject to y (x^T w) >= 1\n",
    "    prob = cp.Problem(cp.Minimize(cp.quad_form(cp_weights[:-1], Ide)),\n",
    "                         [np.diag(2*y_train-1) @ ((A @ cp_weights)) >= b_ones])\n",
    "    prob.solve(verbose=False, solver=cp.ECOS)\n",
    "    weights = cp_weights.value\n",
    "    return weights[:-1], weights[-1]\n",
    "\n",
    "def evaluate_max_margin(x_test, y_test, weights, bias):\n",
    "    \"\"\"\n",
    "    Returns accuracy of a linear classifier on test data\n",
    "    # Arguments:\n",
    "        x_test (np.array): test inputs\n",
    "        y_test (np.array): 0/1 test labels \n",
    "        weights, bias (np.array, float): weights and bias\n",
    "    # Returns\n",
    "        accuracy: accuracy of the weights on the given test data\n",
    "    \"\"\"\n",
    "    x_test = x_test.reshape((x_test.shape[0],-1))\n",
    "    margins = np.matmul(x_test, weights) + bias\n",
    "    accuracy = np.mean(np.multiply(margins, 2*y_test - 1) > 0.0)\n",
    "    return accuracy"
   ]
  },
  {
   "cell_type": "markdown",
   "metadata": {},
   "source": [
    "### Max-margin classifier on the original dataset\n",
    "\n",
    "Let us first look at what the max-margin classifier looks like in the \"original\" data. Later on, we'll modify the dataset to induce a spurious correlation, and then look at the max-margin classifier on that new dataset. \n"
   ]
  },
  {
   "cell_type": "code",
   "execution_count": 6,
   "metadata": {},
   "outputs": [
    {
     "name": "stdout",
     "output_type": "stream",
     "text": [
      "Test accuracy = 1.0\n"
     ]
    }
   ],
   "source": [
    "mm_weights, mm_bias = fit_max_margin(x_train,y_train)\n",
    "# If you want to look at how much weight the classifier assigns to different weights, plot this.\n",
    "#plt.bar(np.arange(mm_weights.shape[0]),np.abs(mm_weights))\n",
    "#plt.xticks(np.arange(mm_weights.shape[0]));\n",
    "accuracy = evaluate_max_margin(x_test, y_test, mm_weights, mm_bias)\n",
    "print(f\"Test accuracy = {accuracy}\")"
   ]
  },
  {
   "cell_type": "markdown",
   "metadata": {},
   "source": [
    "Let us see how well this classifier performs on the \"majority\" data where `x_sp = y` and the \"minority\" data where `x_sp !=y`. "
   ]
  },
  {
   "cell_type": "code",
   "execution_count": 7,
   "metadata": {},
   "outputs": [
    {
     "name": "stdout",
     "output_type": "stream",
     "text": [
      "Majority test accuracy = 1.0\n",
      "Minority test accuracy = 1.0\n"
     ]
    }
   ],
   "source": [
    "pos_accuracy = evaluate_max_margin(pos_x_test, pos_y_test, mm_weights, mm_bias)\n",
    "print(f\"Majority test accuracy = {pos_accuracy}\")\n",
    "neg_accuracy = evaluate_max_margin(neg_x_test, neg_y_test, mm_weights, mm_bias)\n",
    "print(f\"Minority test accuracy = {neg_accuracy}\")"
   ]
  },
  {
   "cell_type": "markdown",
   "metadata": {},
   "source": [
    "Since there is not much difference in the proportion of majority and minority data in this dataset, the max-margin classifier fares equally well on both groups!\n",
    "Let's also make note of how much weight this gives to the spurious feature on this dataset without a spurious correlation"
   ]
  },
  {
   "cell_type": "code",
   "execution_count": 8,
   "metadata": {},
   "outputs": [
    {
     "data": {
      "text/plain": [
       "0.008574459603720577"
      ]
     },
     "execution_count": 8,
     "metadata": {},
     "output_type": "execute_result"
    }
   ],
   "source": [
    "(mm_weights[spur_ind])/np.linalg.norm(mm_weights)"
   ]
  },
  {
   "cell_type": "markdown",
   "metadata": {},
   "source": [
    "### Max-margin classifier on dataset with spurious correlation"
   ]
  },
  {
   "cell_type": "markdown",
   "metadata": {},
   "source": [
    "Now, let's create a new dataset which is a subset of the above dataset, but with many of the minority points ignored. This creates a dataset where `x_sp` is highly correlated with `y`.\n",
    "\n"
   ]
  },
  {
   "cell_type": "code",
   "execution_count": 9,
   "metadata": {},
   "outputs": [
    {
     "name": "stdout",
     "output_type": "stream",
     "text": [
      "Size of new majority group = 581\n",
      "Size of new minority group = 10\n"
     ]
    }
   ],
   "source": [
    "factor = 50 # The factor by which we want to reduce the size of the minority datapoints\n",
    "print(f\"Size of new majority group = {pos_x_train.shape[0]}\")\n",
    "print(f\"Size of new minority group = {int(neg_x_train.shape[0]/factor)}\")\n",
    "\n",
    "geom_skewed_x_train = np.vstack([pos_x_train, neg_x_train[:int(neg_x_train.shape[0]/factor)]])\n",
    "geom_skewed_y_train = np.concatenate([pos_y_train, neg_y_train[:int(neg_y_train.shape[0]/factor)]])\n"
   ]
  },
  {
   "cell_type": "markdown",
   "metadata": {},
   "source": [
    "Let's train a max-margin classifier on this dataset and observe its performance on the test majority and test minority groups."
   ]
  },
  {
   "cell_type": "code",
   "execution_count": 11,
   "metadata": {},
   "outputs": [
    {
     "name": "stdout",
     "output_type": "stream",
     "text": [
      "Majority test accuracy = 0.9949367088607595\n",
      "Minority test accuracy = 0.5718562874251497\n"
     ]
    }
   ],
   "source": [
    "skewed_mm_weights, skewed_mm_bias = fit_max_margin(geom_skewed_x_train,geom_skewed_y_train)\n",
    "pos_accuracy = evaluate_max_margin(pos_x_test, pos_y_test, skewed_mm_weights, skewed_mm_bias)\n",
    "print(f\"Majority test accuracy = {pos_accuracy}\")\n",
    "neg_accuracy = evaluate_max_margin(neg_x_test, neg_y_test, skewed_mm_weights, skewed_mm_bias)\n",
    "print(f\"Minority test accuracy = {neg_accuracy}\")"
   ]
  },
  {
   "cell_type": "markdown",
   "metadata": {},
   "source": [
    "The classifier has worse performance on the minority group, implying that it has positively weighted the spurious feature. As before, let us also look at the exact weight assigned to the spurious feature. "
   ]
  },
  {
   "cell_type": "code",
   "execution_count": 12,
   "metadata": {},
   "outputs": [
    {
     "data": {
      "text/plain": [
       "0.12401697156704843"
      ]
     },
     "execution_count": 12,
     "metadata": {},
     "output_type": "execute_result"
    }
   ],
   "source": [
    "skewed_mm_weights[spur_ind]/np.linalg.norm(skewed_mm_weights)"
   ]
  },
  {
   "cell_type": "markdown",
   "metadata": {},
   "source": [
    "### Max-margin norm vs training set size\n",
    "\n",
    "Our fundamental premise behind why the max-margin classifier uses the weakly predictive spurious feature was that, in the invariant feature space, the l2 norm of the max-margin classifier increases with the training set size. Let's check if this is true for this dataset."
   ]
  },
  {
   "cell_type": "code",
   "execution_count": 13,
   "metadata": {},
   "outputs": [],
   "source": [
    "n_train_list = [4,8,16,32,64,128,256,512,1024] # Varying number of training dataset sizes.\n",
    "norms = []\n",
    "for n_train in n_train_list:\n",
    "    norms += [[]]\n",
    "    for k in range(5):\n",
    "        inds = np.random.choice(np.arange(x_train.shape[0]), n_train,replace=False) # Randomly select\n",
    "        # subset of data\n",
    "        \n",
    "        # Fit max-margin on the subset of the data, but only after removing the spurious feature\n",
    "        temp_mm_weights, temp_mm_bias = fit_max_margin(np.delete(x_train[inds], spur_ind, axis=1),y_train[inds])\n",
    "        norms[-1] += [np.linalg.norm(temp_mm_weights)]\n",
    "        \n",
    "ys = [np.mean(y) for y in norms]\n",
    "yerrs = [np.std(y) for y in norms] # Error bars\n"
   ]
  },
  {
   "cell_type": "code",
   "execution_count": 43,
   "metadata": {},
   "outputs": [
    {
     "data": {
      "text/plain": [
       "<Figure size 360x360 with 0 Axes>"
      ]
     },
     "metadata": {},
     "output_type": "display_data"
    },
    {
     "data": {
      "image/png": "[encoded data removed]",
      "text/plain": [
       "<Figure size 432x288 with 1 Axes>"
      ]
     },
     "metadata": {
      "needs_background": "light"
     },
     "output_type": "display_data"
    }
   ],
   "source": [
    "mpl.rc('xtick', labelsize=18)\n",
    "mpl.rc('ytick', labelsize=18)\n",
    "mpl.rcParams['font.family'] ='monospace'\n",
    "plt.figure(figsize=(5,5))\n",
    "fig, ax = plt.subplots()\n",
    "ax.set_xlabel('Training set size',fontsize=24)\n",
    "ax.set_ylabel(r'$\\ell_2$ Norm',fontsize=24)\n",
    "ax.errorbar(x=np.log(n_train_list),y=ys,yerr= yerrs,marker=markers[1], color=colors[1], \n",
    "            capsize=5,markersize=15)\n",
    "ax.grid()\n",
    "plt.tight_layout()\n",
    "plt.xticks(np.log([16,64,256,1024]), ['16','64','256','1024']);\n",
    "plt.savefig(f'obesity_geom_skew.pdf')\n"
   ]
  },
  {
   "cell_type": "markdown",
   "metadata": {},
   "source": [
    "## Statistical skews\n",
    "\n",
    "Next let's understand how the spurious correlation affects gradient descent. "
   ]
  },
  {
   "cell_type": "markdown",
   "metadata": {},
   "source": [
    "### Functions to train w/ gradient descent"
   ]
  },
  {
   "cell_type": "code",
   "execution_count": 18,
   "metadata": {},
   "outputs": [],
   "source": [
    "from keras.layers import Input, Flatten, Dense, Activation\n",
    "\n",
    "def linear_classifier(input_shape,  use_bias = True):\n",
    "    \"\"\"Linear classifier and its logit output\n",
    "    # Arguments\n",
    "        input_shape (tensor): shape of input image tensor\n",
    "        use_bias (boolean): use bias variable or not\n",
    "    # Returns\n",
    "        model (Model): Keras model instance\n",
    "        logits (Model): Keras model instance for the logit layer\n",
    "    \"\"\"\n",
    "    inputs = Input(shape=input_shape)\n",
    "    x = Dense(1,kernel_initializer='zeros', use_bias = use_bias)(inputs)\n",
    "    logits = Model(inputs=inputs, outputs=x)\n",
    "    outputs = Activation('sigmoid')(x)\n",
    "    # Instantiate model.\n",
    "    model = Model(inputs=inputs, outputs=outputs)\n",
    "    return model, logits"
   ]
  },
  {
   "cell_type": "code",
   "execution_count": 19,
   "metadata": {},
   "outputs": [],
   "source": [
    "from keras.optimizers import SGD\n",
    "from keras.losses import BinaryCrossentropy\n",
    "\n",
    "\n",
    "# The following callback allows us to store and access weights\n",
    "# throughout training\n",
    "from keras.callbacks import Callback\n",
    "class SaveWeights(Callback):\n",
    "    def __init__(self, verbose=0):\n",
    "        super(SaveWeights, self).__init__()\n",
    "        self.epoch = []\n",
    "        self.history = {}\n",
    "\n",
    "    def on_train_begin(self, logs=None):\n",
    "        self.epoch = []\n",
    "        self.history = {}\n",
    "\n",
    "    def on_epoch_end(self, epoch, logs=None):\n",
    "        logs = logs or {}\n",
    "        self.epoch.append(epoch)\n",
    "        self.history.setdefault(\"Weights\", []).append(self.model.layers[1].get_weights())\n",
    "\n",
    "\n"
   ]
  },
  {
   "cell_type": "markdown",
   "metadata": {},
   "source": [
    "Now, we'll create datasets with statistical skews by merely duplicating points in the group `x_sp = y`. By doing so, we'll create datasets with levels of spurious correlation varying from 0.5 to 0.75 to 0.99. We'll then train with SGD with learning rate 0.01.\n"
   ]
  },
  {
   "cell_type": "code",
   "execution_count": 39,
   "metadata": {},
   "outputs": [
    {
     "name": "stdout",
     "output_type": "stream",
     "text": [
      "Num points = 500\n",
      "Num points = 450\n"
     ]
    }
   ],
   "source": [
    "n_epochs = 10000\n",
    "n_train = 500 # Number of training points we want in the new dataset \n",
    "spur_p_list= [0.75,0.85] # List of spurious correlation values\n",
    "# for each value we'll consider a different dataset with that level of spurious correlation\n",
    "# i.e., Pr[x_sp  = y]\n",
    "\n",
    "# In all the following lists, there'll be one entry corresponding to each of the datasets \n",
    "# that we create.\n",
    "histories = []\n",
    "callback_list = []\n",
    "# The following are for weights and biases of the max-margin trained on these datasets\n",
    "stat_skewed_mm_weights_list = [] \n",
    "stat_skewed_mm_bias_list = []\n",
    "for p in spur_p_list:\n",
    "    # Create a statistically skewed training dataset with spurious correlation level = p\n",
    "    n_pos = int(n_train*p)  # Number of points in the x_sp = y group (majority)\n",
    "    n_neg = int(n_train*(1-p))# Number of points in the x_sp != y group (minority)\n",
    "    \n",
    "    # We'll create the new \"duplicated \"majority group (ofsize n_pos) by picking n_neg \n",
    "    # unique points from it and then duplicating it (n_pos/n_neg) times\n",
    "    stat_skewed_x_train = np.vstack([pos_x_train[:n_neg] for i in range(int(n_pos/n_neg))]+ \n",
    "                                [neg_x_train[:n_neg]])\n",
    "    stat_skewed_y_train = np.concatenate([pos_y_train[:n_neg] for i in range(int(n_pos/n_neg))]+ \n",
    "                                [neg_y_train[:n_neg]])\n",
    "    print(f\"Num points = {stat_skewed_x_train.shape[0]}\")\n",
    "\n",
    "    \n",
    "    model, _ = linear_classifier(input_shape=x_train.shape[1:])\n",
    "    loss = BinaryCrossentropy(from_logits=False)\n",
    "    model.compile(loss=loss,\n",
    "                        optimizer=SGD(learning_rate=0.01),\n",
    "                        metrics=['accuracy'])\n",
    "    callbacks = [SaveWeights()]\n",
    "    history = model.fit(stat_skewed_x_train, stat_skewed_y_train,\n",
    "                  batch_size=32,\n",
    "                  epochs=n_epochs,\n",
    "                  validation_data=(x_test, y_test),\n",
    "                  shuffle=True, workers=4,\n",
    "                  callbacks=callbacks,verbose=0)\n",
    "    histories += [history]\n",
    "    callback_list += [callbacks[0]]\n",
    "    \n",
    "    # Learn the max-margin classifier on this dataset and store it in a list\n",
    "    stat_skewed_mm_weights, stat_skewed_mm_bias = fit_max_margin(stat_skewed_x_train,stat_skewed_y_train)\n",
    "    stat_skewed_mm_weights_list += [stat_skewed_mm_weights]\n",
    "    stat_skewed_mm_bias_list += [stat_skewed_mm_bias]"
   ]
  },
  {
   "cell_type": "markdown",
   "metadata": {},
   "source": [
    "Now let's plot how the weight assigned to the spurious feature evolves over time. First we need to do a little bit of work to gather these weights from the callbacks:"
   ]
  },
  {
   "cell_type": "code",
   "execution_count": 40,
   "metadata": {},
   "outputs": [],
   "source": [
    "\n",
    "spur_weights_list = [] # Each entry in this list will correspond\n",
    "# to one of the spurious correlation levels\n",
    "for callback in callback_list:\n",
    "    # Each loop corresponds to training on a particular level of spurious correlation\n",
    "    spur_weights = [] # This will be a list of scalar values equal to w_sp(t)/||w(t)||\n",
    "    for weights in callback.history['Weights']:\n",
    "        spur_weights +=  [np.abs(weights[0][spur_ind])/np.linalg.norm(weights[0])]\n",
    "    spur_weights= np.array(spur_weights)\n",
    "    spur_weights_list += [spur_weights]"
   ]
  },
  {
   "cell_type": "code",
   "execution_count": 42,
   "metadata": {},
   "outputs": [
    {
     "data": {
      "text/plain": [
       "<Figure size 360x360 with 0 Axes>"
      ]
     },
     "metadata": {},
     "output_type": "display_data"
    },
    {
     "data": {
      "image/png": "[encoded data removed]",
      "text/plain": [
       "<Figure size 432x288 with 1 Axes>"
      ]
     },
     "metadata": {
      "needs_background": "light"
     },
     "output_type": "display_data"
    }
   ],
   "source": [
    "# Plotting function\n",
    "mpl.rc('xtick', labelsize=18)\n",
    "mpl.rc('ytick', labelsize=18)\n",
    "mpl.rcParams['font.family'] ='monospace'\n",
    "plt.figure(figsize=(5,5))\n",
    "fig, ax = plt.subplots()\n",
    "ax.set_xlabel('Epoch',fontsize=24)\n",
    "ax.set_ylabel('Spurious component',fontsize=17)\n",
    "\n",
    "for k in [0,1]:\n",
    "    inds = np.arange(0,n_epochs,100)\n",
    "    ax.plot(inds,spur_weights_list[k][inds],\n",
    "                        linestyle = '--',color=colors[k])\n",
    "    inds = np.arange(0,n_epochs,1000)\n",
    "    ax.scatter(inds,spur_weights_list[k][inds],marker=markers[k], \n",
    "                       color=colors[k],s=200,label=f'{spur_p_list[k]}')\n",
    "\n",
    "legend = plt.legend(fontsize=17, ncol=1, loc='upper left',title=r'$Pr[x_{sp}y > 0]$')\n",
    "plt.setp(legend.get_title(),fontsize='16')\n",
    "ax.grid()\n",
    "#plt.ylim([0,1])\n",
    "plt.tight_layout()\n"
   ]
  },
  {
   "cell_type": "markdown",
   "metadata": {},
   "source": [
    "What happens to the max-margin classifier in these settings? The above datasets have roughly the same number of unique datapoints in both the majority and minority group. So we'd expect the max-margin classifier to not assign much weight to the spurious feature in all of these datasets. Let's verify that by looking at its error on the two groups and weight assigned to the spurious component."
   ]
  },
  {
   "cell_type": "code",
   "execution_count": 44,
   "metadata": {},
   "outputs": [
    {
     "name": "stdout",
     "output_type": "stream",
     "text": [
      "Spurious correlation = 0.75\n",
      "Majority test accuracy = 0.9873417721518988\n",
      "Minority test accuracy = 0.9970059880239521\n",
      "Spurious component = 0.009504891436380685\n",
      "Spurious correlation = 0.85\n",
      "Majority test accuracy = 0.9518987341772152\n",
      "Minority test accuracy = 0.9670658682634731\n",
      "Spurious component = -0.035519159153161804\n"
     ]
    }
   ],
   "source": [
    "for k in range(len(spur_p_list)):\n",
    "    print(f\"Spurious correlation = {spur_p_list[k]}\")\n",
    "    pos_accuracy = evaluate_max_margin(pos_x_test, pos_y_test, \n",
    "                                       stat_skewed_mm_weights_list[k], stat_skewed_mm_bias_list[k])\n",
    "    print(f\"Majority test accuracy = {pos_accuracy}\")\n",
    "    neg_accuracy = evaluate_max_margin(neg_x_test, neg_y_test, \n",
    "                                       stat_skewed_mm_weights_list[k], stat_skewed_mm_bias_list[k])\n",
    "    print(f\"Minority test accuracy = {neg_accuracy}\")\n",
    "    print(f\"Spurious component = {stat_skewed_mm_weights_list[k][spur_ind]/np.linalg.norm(stat_skewed_mm_weights_list[k])}\")"
   ]
  }
 ],
 "metadata": {
  "environment": {
   "name": "tf2-gpu.2-1.m56",
   "type": "gcloud",
   "uri": "gcr.io/deeplearning-platform-release/tf2-gpu.2-1:m56"
  },
  "kernelspec": {
   "display_name": "Python 3",
   "language": "python",
   "name": "python3"
  },
  "language_info": {
   "codemirror_mode": {
    "name": "ipython",
    "version": 3
   },
   "file_extension": ".py",
   "mimetype": "text/x-python",
   "name": "python",
   "nbconvert_exporter": "python",
   "pygments_lexer": "ipython3",
   "version": "3.7.8"
  }
 },
 "nbformat": 4,
 "nbformat_minor": 4
}
